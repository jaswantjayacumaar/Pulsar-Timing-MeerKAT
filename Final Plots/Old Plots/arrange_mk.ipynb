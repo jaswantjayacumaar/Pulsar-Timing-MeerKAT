{
 "cells": [
  {
   "cell_type": "code",
   "execution_count": 1,
   "metadata": {},
   "outputs": [],
   "source": [
    "# Open the input file for reading\n",
    "with open('mk_res.txt', 'r') as f:\n",
    "    # Read the lines from the file into a list\n",
    "    lines = f.readlines()\n",
    "\n",
    "# Sort the list of lines\n",
    "sorted_lines = sorted(lines)\n",
    "\n",
    "# Open the output file for writing\n",
    "with open('output.txt', 'w') as f:\n",
    "    # Write the sorted lines to the file\n",
    "    f.writelines(sorted_lines)"
   ]
  },
  {
   "cell_type": "code",
   "execution_count": null,
   "metadata": {},
   "outputs": [],
   "source": []
  }
 ],
 "metadata": {
  "kernelspec": {
   "display_name": "Python 3",
   "language": "python",
   "name": "python3"
  },
  "language_info": {
   "codemirror_mode": {
    "name": "ipython",
    "version": 3
   },
   "file_extension": ".py",
   "mimetype": "text/x-python",
   "name": "python",
   "nbconvert_exporter": "python",
   "pygments_lexer": "ipython3",
   "version": "3.7.6"
  }
 },
 "nbformat": 4,
 "nbformat_minor": 4
}
